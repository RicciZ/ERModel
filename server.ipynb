{
 "cells": [
  {
   "cell_type": "code",
   "execution_count": 1,
   "metadata": {},
   "outputs": [],
   "source": [
    "import numpy as np\n",
    "import pandas as pd\n",
    "import argparse\n",
    "import os\n",
    "import torch\n",
    "import torch.nn as nn\n",
    "import torch.optim as optim\n",
    "import torch.nn.functional as F\n",
    "from torch.utils.data import DataLoader\n",
    "import torchvision.datasets as datasets\n",
    "import torchvision.transforms as transforms\n",
    "import matplotlib.pyplot as plt"
   ]
  },
  {
   "cell_type": "code",
   "execution_count": 2,
   "metadata": {},
   "outputs": [],
   "source": [
    "class ERModel(nn.Module):\n",
    "    def __init__(self, input_size, hidden_size, num_layers, num_classes, device, use_hrv,\n",
    "            dropout_cnn = 0.5, dropout_lstm = 0.8, kernel_size_pool = 5, stride_pool = 4):\n",
    "        super(ERModel, self).__init__()\n",
    "        self.device = device\n",
    "        self.use_hrv = use_hrv\n",
    "        # CNN stream\n",
    "        self.conv1 = nn.Conv1d(in_channels=2, out_channels=8, kernel_size=3, padding=1)\n",
    "        self.conv2 = nn.Conv1d(in_channels=8, out_channels=16, kernel_size=3, padding=1)\n",
    "        self.conv3 = nn.Conv1d(in_channels=16, out_channels=32, kernel_size=3, padding=1)\n",
    "        self.conv4 = nn.Conv1d(in_channels=32, out_channels=64, kernel_size=3, padding=1)\n",
    "        self.dropout_cnn = nn.Dropout(p=dropout_cnn)\n",
    "        self.dropout_lstm = nn.Dropout(p=dropout_lstm)\n",
    "        self.pool = nn.AvgPool1d(kernel_size=kernel_size_pool, stride=stride_pool)\n",
    "        # BLSTM stream\n",
    "        self.hidden_size = hidden_size\n",
    "        self.num_layers = num_layers\n",
    "        # batch x time_seq x features\n",
    "        self.blstm = nn.LSTM(input_size, hidden_size, num_layers, batch_first=True, bidirectional=True)\n",
    "        self.fc1 = nn.Linear(hidden_size*2 + 64*int((input_size-kernel_size_pool)/4+1), 256)\n",
    "        self.fc2 = nn.Linear(256, 32)\n",
    "        if self.use_hrv:\n",
    "            self.fc3 = nn.Linear(36, num_classes)\n",
    "        else:\n",
    "            self.fc3 = nn.Linear(32, num_classes)\n",
    "        self.bn1 = nn.BatchNorm1d(256)\n",
    "        self.bn2 = nn.BatchNorm1d(32)\n",
    "\n",
    "\n",
    "    def forward(self, x):\n",
    "        if self.use_hrv:\n",
    "            x_hrv = x[:,:,-2:]\n",
    "            x = x[:,:,:-2]\n",
    "            # print(x_hrv.shape,x.shape)\n",
    "        # BLSTM stream\n",
    "        h0 = torch.zeros(self.num_layers*2, x.size(0), self.hidden_size).to(self.device)\n",
    "        c0 = torch.zeros(self.num_layers*2, x.size(0), self.hidden_size).to(self.device)\n",
    "        out, _ = self.blstm(x, (h0, c0))\n",
    "        out = self.dropout_lstm(out[:, -1, :])\n",
    "\n",
    "        # CNN stream\n",
    "        x = F.relu(self.conv1(x))\n",
    "        x = self.dropout_cnn(x)\n",
    "        x = F.relu(self.conv2(x))\n",
    "        x = self.dropout_cnn(x)\n",
    "        x = F.relu(self.conv3(x))\n",
    "        x = self.dropout_cnn(x)\n",
    "        x = F.relu(self.conv4(x))\n",
    "        x = self.dropout_cnn(x)\n",
    "        x = self.pool(x)\n",
    "        x = x.reshape(x.shape[0], -1)\n",
    "        \n",
    "        # concatenate and fc\n",
    "        x = torch.cat((x,out),1)\n",
    "        x = F.relu(self.fc1(x))\n",
    "        x = F.relu(self.fc2(x))\n",
    "        # print(x.shape)\n",
    "        x = torch.cat((x, x_hrv.reshape(x_hrv.shape[0], -1)),1)\n",
    "        # print(x.shape)\n",
    "        x = self.fc3(x)\n",
    "\n",
    "        return x"
   ]
  },
  {
   "cell_type": "code",
   "execution_count": 3,
   "metadata": {},
   "outputs": [],
   "source": [
    "def load_checkpoint(filename):\n",
    "    print(\"=> Loading checkpoint\")\n",
    "    checkpoint = torch.load(filename, map_location=\"cpu\")\n",
    "    model.load_state_dict(checkpoint['state_dict'])\n",
    "    optimizer.load_state_dict(checkpoint['optimizer'])"
   ]
  },
  {
   "cell_type": "code",
   "execution_count": 4,
   "metadata": {},
   "outputs": [],
   "source": [
    "# model\n",
    "num_classes = 3\n",
    "input_size = 60000\n",
    "hidden_size = 512\n",
    "num_layers = 2\n",
    "lr = 0.001\n",
    "use_hrv = True\n",
    "device = torch.device(\"cpu\")\n",
    "model = ERModel(input_size, hidden_size, num_layers, num_classes, device, use_hrv).to(device)\n",
    "criterion = nn.MSELoss()\n",
    "optimizer = optim.Adam(model.parameters(), lr=lr)"
   ]
  },
  {
   "cell_type": "code",
   "execution_count": 5,
   "metadata": {},
   "outputs": [
    {
     "name": "stdout",
     "output_type": "stream",
     "text": [
      "=> Loading checkpoint\n"
     ]
    }
   ],
   "source": [
    "load_checkpoint('checkpoint/my_checkpoint.pth.tar')"
   ]
  },
  {
   "cell_type": "code",
   "execution_count": 8,
   "metadata": {},
   "outputs": [],
   "source": [
    "ecg = pd.read_csv(\"user_ecg/2022_5_18_13_49.csv\",index_col=False)"
   ]
  },
  {
   "cell_type": "code",
   "execution_count": 9,
   "metadata": {
    "scrolled": true
   },
   "outputs": [
    {
     "data": {
      "text/html": [
       "<div>\n",
       "<style scoped>\n",
       "    .dataframe tbody tr th:only-of-type {\n",
       "        vertical-align: middle;\n",
       "    }\n",
       "\n",
       "    .dataframe tbody tr th {\n",
       "        vertical-align: top;\n",
       "    }\n",
       "\n",
       "    .dataframe thead th {\n",
       "        text-align: right;\n",
       "    }\n",
       "</style>\n",
       "<table border=\"1\" class=\"dataframe\">\n",
       "  <thead>\n",
       "    <tr style=\"text-align: right;\">\n",
       "      <th></th>\n",
       "      <th>标志</th>\n",
       "      <th>信号强度</th>\n",
       "      <th>版本号</th>\n",
       "      <th>心率</th>\n",
       "      <th>皮肤电</th>\n",
       "      <th>温度</th>\n",
       "      <th>IBI</th>\n",
       "      <th>x轴加速度</th>\n",
       "      <th>y轴加速度</th>\n",
       "      <th>z轴加速度</th>\n",
       "      <th>步数</th>\n",
       "    </tr>\n",
       "  </thead>\n",
       "  <tbody>\n",
       "    <tr>\n",
       "      <th>0</th>\n",
       "      <td>1</td>\n",
       "      <td>0</td>\n",
       "      <td>0</td>\n",
       "      <td>0</td>\n",
       "      <td>0</td>\n",
       "      <td>0</td>\n",
       "      <td>0</td>\n",
       "      <td>0</td>\n",
       "      <td>0</td>\n",
       "      <td>0</td>\n",
       "      <td>0</td>\n",
       "    </tr>\n",
       "    <tr>\n",
       "      <th>1</th>\n",
       "      <td>2</td>\n",
       "      <td>0</td>\n",
       "      <td>0</td>\n",
       "      <td>0</td>\n",
       "      <td>0</td>\n",
       "      <td>0</td>\n",
       "      <td>0</td>\n",
       "      <td>0</td>\n",
       "      <td>0</td>\n",
       "      <td>0</td>\n",
       "      <td>0</td>\n",
       "    </tr>\n",
       "    <tr>\n",
       "      <th>2</th>\n",
       "      <td>3</td>\n",
       "      <td>0</td>\n",
       "      <td>0</td>\n",
       "      <td>0</td>\n",
       "      <td>0</td>\n",
       "      <td>0</td>\n",
       "      <td>0</td>\n",
       "      <td>0</td>\n",
       "      <td>0</td>\n",
       "      <td>0</td>\n",
       "      <td>0</td>\n",
       "    </tr>\n",
       "    <tr>\n",
       "      <th>3</th>\n",
       "      <td>4</td>\n",
       "      <td>0</td>\n",
       "      <td>0</td>\n",
       "      <td>0</td>\n",
       "      <td>0</td>\n",
       "      <td>0</td>\n",
       "      <td>0</td>\n",
       "      <td>0</td>\n",
       "      <td>0</td>\n",
       "      <td>0</td>\n",
       "      <td>0</td>\n",
       "    </tr>\n",
       "    <tr>\n",
       "      <th>4</th>\n",
       "      <td>5</td>\n",
       "      <td>0</td>\n",
       "      <td>0</td>\n",
       "      <td>0</td>\n",
       "      <td>0</td>\n",
       "      <td>0</td>\n",
       "      <td>0</td>\n",
       "      <td>0</td>\n",
       "      <td>0</td>\n",
       "      <td>0</td>\n",
       "      <td>0</td>\n",
       "    </tr>\n",
       "    <tr>\n",
       "      <th>...</th>\n",
       "      <td>...</td>\n",
       "      <td>...</td>\n",
       "      <td>...</td>\n",
       "      <td>...</td>\n",
       "      <td>...</td>\n",
       "      <td>...</td>\n",
       "      <td>...</td>\n",
       "      <td>...</td>\n",
       "      <td>...</td>\n",
       "      <td>...</td>\n",
       "      <td>...</td>\n",
       "    </tr>\n",
       "    <tr>\n",
       "      <th>181</th>\n",
       "      <td>182</td>\n",
       "      <td>68</td>\n",
       "      <td>143</td>\n",
       "      <td>62</td>\n",
       "      <td>1278</td>\n",
       "      <td>29</td>\n",
       "      <td>848</td>\n",
       "      <td>210</td>\n",
       "      <td>101</td>\n",
       "      <td>75</td>\n",
       "      <td>0</td>\n",
       "    </tr>\n",
       "    <tr>\n",
       "      <th>182</th>\n",
       "      <td>183</td>\n",
       "      <td>69</td>\n",
       "      <td>142</td>\n",
       "      <td>57</td>\n",
       "      <td>1282</td>\n",
       "      <td>29</td>\n",
       "      <td>2507</td>\n",
       "      <td>211</td>\n",
       "      <td>101</td>\n",
       "      <td>75</td>\n",
       "      <td>0</td>\n",
       "    </tr>\n",
       "    <tr>\n",
       "      <th>183</th>\n",
       "      <td>184</td>\n",
       "      <td>69</td>\n",
       "      <td>141</td>\n",
       "      <td>58</td>\n",
       "      <td>1280</td>\n",
       "      <td>29</td>\n",
       "      <td>843</td>\n",
       "      <td>210</td>\n",
       "      <td>101</td>\n",
       "      <td>75</td>\n",
       "      <td>0</td>\n",
       "    </tr>\n",
       "    <tr>\n",
       "      <th>184</th>\n",
       "      <td>185</td>\n",
       "      <td>69</td>\n",
       "      <td>141</td>\n",
       "      <td>58</td>\n",
       "      <td>1279</td>\n",
       "      <td>29</td>\n",
       "      <td>896</td>\n",
       "      <td>210</td>\n",
       "      <td>100</td>\n",
       "      <td>74</td>\n",
       "      <td>0</td>\n",
       "    </tr>\n",
       "    <tr>\n",
       "      <th>185</th>\n",
       "      <td>186</td>\n",
       "      <td>72</td>\n",
       "      <td>142</td>\n",
       "      <td>58</td>\n",
       "      <td>1303</td>\n",
       "      <td>29</td>\n",
       "      <td>862</td>\n",
       "      <td>210</td>\n",
       "      <td>99</td>\n",
       "      <td>73</td>\n",
       "      <td>0</td>\n",
       "    </tr>\n",
       "  </tbody>\n",
       "</table>\n",
       "<p>186 rows × 11 columns</p>\n",
       "</div>"
      ],
      "text/plain": [
       "      标志  信号强度  版本号  心率   皮肤电  温度   IBI  x轴加速度  y轴加速度  z轴加速度  步数\n",
       "0      1     0    0   0     0   0     0      0      0      0   0\n",
       "1      2     0    0   0     0   0     0      0      0      0   0\n",
       "2      3     0    0   0     0   0     0      0      0      0   0\n",
       "3      4     0    0   0     0   0     0      0      0      0   0\n",
       "4      5     0    0   0     0   0     0      0      0      0   0\n",
       "..   ...   ...  ...  ..   ...  ..   ...    ...    ...    ...  ..\n",
       "181  182    68  143  62  1278  29   848    210    101     75   0\n",
       "182  183    69  142  57  1282  29  2507    211    101     75   0\n",
       "183  184    69  141  58  1280  29   843    210    101     75   0\n",
       "184  185    69  141  58  1279  29   896    210    100     74   0\n",
       "185  186    72  142  58  1303  29   862    210     99     73   0\n",
       "\n",
       "[186 rows x 11 columns]"
      ]
     },
     "execution_count": 9,
     "metadata": {},
     "output_type": "execute_result"
    }
   ],
   "source": [
    "ecg"
   ]
  },
  {
   "cell_type": "code",
   "execution_count": 18,
   "metadata": {
    "scrolled": true
   },
   "outputs": [
    {
     "data": {
      "image/png": "[encoded data removed]",
      "text/plain": [
       "<Figure size 432x288 with 1 Axes>"
      ]
     },
     "metadata": {
      "needs_background": "light"
     },
     "output_type": "display_data"
    }
   ],
   "source": [
    "x = np.array([i for i in ecg['IBI'] if i != 0])\n",
    "x = (x-np.mean(x))/np.std(x)\n",
    "plt.plot(np.arange(len(x)),x)\n",
    "x = torch.tensor([x,x])\n",
    "x = torch.cat((x, torch.zeros(2,input_size - x.shape[1])),1)\n",
    "ibi = np.array([i/256 for i in ecg['IBI'] if i != 0])\n",
    "mean = np.mean(ibi)\n",
    "std = np.std(ibi)\n",
    "x = torch.cat((x, torch.tensor([[mean,std], [mean,std]])),1).unsqueeze(0).float()"
   ]
  },
  {
   "cell_type": "code",
   "execution_count": 19,
   "metadata": {},
   "outputs": [
    {
     "data": {
      "text/plain": [
       "1.8290698435192396"
      ]
     },
     "execution_count": 19,
     "metadata": {},
     "output_type": "execute_result"
    }
   ],
   "source": [
    "std"
   ]
  },
  {
   "cell_type": "code",
   "execution_count": 20,
   "metadata": {},
   "outputs": [
    {
     "data": {
      "text/plain": [
       "array([ 8.382352,  8.439748, 13.261678], dtype=float32)"
      ]
     },
     "execution_count": 20,
     "metadata": {},
     "output_type": "execute_result"
    }
   ],
   "source": [
    "res = model(x)\n",
    "res = res[0].detach().numpy()\n",
    "res"
   ]
  },
  {
   "cell_type": "code",
   "execution_count": 21,
   "metadata": {},
   "outputs": [],
   "source": [
    "def map_score_emo(score):\n",
    "    # map 3 scores to specific emotion: \n",
    "    # calmness 322, happiness 433, fear 244, sadness 133, anger 144, excitement 333\n",
    "    \n",
    "    # val positive or negative\n",
    "    # aro bored or excited\n",
    "    # dom without control or empowered\n",
    "    \n",
    "    emotion = np.array([[3.17, 2.26, 2.09], [4.39, 3.44, 3.65], [2.26, 3.67, 3.67], \n",
    "                    [1.52, 3.00, 3.96], [1.85, 3.09, 3.37], [3.44, 3.53, 3.39]])\n",
    "    out = np.zeros(6)\n",
    "    for i in range(len(emotion)):\n",
    "        temp = (score - emotion[i])**2\n",
    "        out[i] = 100*(2*temp[0] + temp[1] + temp[2])\n",
    "    out = max(out)-out+1\n",
    "    out /= sum(out)\n",
    "    \n",
    "    return out"
   ]
  },
  {
   "cell_type": "code",
   "execution_count": 22,
   "metadata": {},
   "outputs": [
    {
     "data": {
      "text/plain": [
       "array([6.44187755e-05, 4.38584388e-01, 1.77961568e-01, 4.53964209e-02,\n",
       "       3.56529480e-02, 3.02340257e-01])"
      ]
     },
     "execution_count": 22,
     "metadata": {},
     "output_type": "execute_result"
    }
   ],
   "source": [
    "map_score_emo(res)"
   ]
  },
  {
   "cell_type": "code",
   "execution_count": null,
   "metadata": {},
   "outputs": [],
   "source": []
  },
  {
   "cell_type": "code",
   "execution_count": null,
   "metadata": {},
   "outputs": [],
   "source": []
  },
  {
   "cell_type": "code",
   "execution_count": null,
   "metadata": {},
   "outputs": [],
   "source": []
  },
  {
   "cell_type": "code",
   "execution_count": null,
   "metadata": {},
   "outputs": [],
   "source": []
  },
  {
   "cell_type": "code",
   "execution_count": null,
   "metadata": {},
   "outputs": [],
   "source": []
  }
 ],
 "metadata": {
  "kernelspec": {
   "display_name": "Python [conda env:ERCode]",
   "language": "python",
   "name": "conda-env-ERCode-py"
  },
  "language_info": {
   "codemirror_mode": {
    "name": "ipython",
    "version": 3
   },
   "file_extension": ".py",
   "mimetype": "text/x-python",
   "name": "python",
   "nbconvert_exporter": "python",
   "pygments_lexer": "ipython3",
   "version": "3.9.7"
  }
 },
 "nbformat": 4,
 "nbformat_minor": 4
}
